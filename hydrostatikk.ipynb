{
 "cells": [
  {
   "attachments": {},
   "cell_type": "markdown",
   "metadata": {},
   "source": [
    "## Hydrostatikk\n",
    "\n"
   ]
  },
  {
   "attachments": {},
   "cell_type": "markdown",
   "metadata": {},
   "source": [
    "### Hydrostatisk trykk \n",
    "\n",
    "[Zakariasdammen](https://no.wikipedia.org/wiki/Zakariasdammen) i Tafjord er 96 meter høy. Beregn hvor stort trykket er i bunnen av demningen i $\\frac{kN}{m^2}$. \n",
    "\n",
    "Gjør utregningen i cellen under uttrykt ved variablen *p_zakarias*. "
   ]
  },
  {
   "cell_type": "code",
   "execution_count": 2,
   "metadata": {},
   "outputs": [],
   "source": [
    "z = 96 #[m]\n",
    "g = 9.81 #[m/s2]\n",
    "rho_ferskvann = 1025 #[kg/m3] \n",
    "# Skriv din kode her\n",
    "p_zakarias = '...'"
   ]
  },
  {
   "cell_type": "code",
   "execution_count": null,
   "metadata": {},
   "outputs": [],
   "source": []
  },
  {
   "cell_type": "code",
   "execution_count": 5,
   "metadata": {},
   "outputs": [
    {
     "name": "stdout",
     "output_type": "stream",
     "text": [
      "   Halvbredde  WL1  WL2  WL3  WL4  WL5  WL6\n",
      "0           0    0    0    0    0    0    0\n",
      "1          37   32   28   20   11    3    0\n",
      "2          67   60   55   39   24    3    0\n",
      "3          75   70   63   48   32    3    0\n",
      "4          80   77   68   56   40    3    0\n"
     ]
    }
   ],
   "source": [
    "print(ordinates.head())"
   ]
  },
  {
   "cell_type": "code",
   "execution_count": null,
   "metadata": {},
   "outputs": [],
   "source": []
  }
 ],
 "metadata": {
  "kernelspec": {
   "display_name": "base",
   "language": "python",
   "name": "python3"
  },
  "language_info": {
   "codemirror_mode": {
    "name": "ipython",
    "version": 3
   },
   "file_extension": ".py",
   "mimetype": "text/x-python",
   "name": "python",
   "nbconvert_exporter": "python",
   "pygments_lexer": "ipython3",
   "version": "3.9.13"
  },
  "orig_nbformat": 4
 },
 "nbformat": 4,
 "nbformat_minor": 2
}
