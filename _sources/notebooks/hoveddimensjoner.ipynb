{
 "cells": [
  {
   "cell_type": "code",
   "execution_count": null,
   "metadata": {},
   "outputs": [],
   "source": []
  },
  {
   "attachments": {},
   "cell_type": "markdown",
   "metadata": {},
   "source": [
    "Oppgave: For å komme seg inn i de store innsjøene *Great Lakes* i USA så må man seile gjennom St. Lawrencekanalen. Største bredde på slusene er $16.5[m]$. \n",
    "- Om du skal designe et nytt skip som bare sånn akkurat skal klare å komme seg gjennom kanalen. Hva blir da \n",
    "    - minste lengde?\n",
    "    - minste dybde?"
   ]
  },
  {
   "attachments": {},
   "cell_type": "markdown",
   "metadata": {},
   "source": [
    "\n"
   ]
  },
  {
   "cell_type": "code",
   "execution_count": 4,
   "metadata": {},
   "outputs": [
    {
     "name": "stdout",
     "output_type": "stream",
     "text": [
      "22.22222222222222\n",
      "8.88888888888889\n"
     ]
    }
   ],
   "source": [
    "bredde_kanal = 16.5\n",
    "\n",
    "# Skriv din kode her. "
   ]
  },
  {
   "cell_type": "code",
   "execution_count": 8,
   "metadata": {},
   "outputs": [
    {
     "name": "stdout",
     "output_type": "stream",
     "text": [
      "74.25\n",
      "6.6\n"
     ]
    }
   ],
   "source": [
    "# Løsningsforslag\n",
    "bredde_kanal = 16.5\n",
    "\n",
    "#opplysninger fra oppgaven\n",
    "lengde_bredde_ratio = 4.5\n",
    "bredde_dybde_ratio = 2.5\n",
    "\n",
    "#finner minste lengde\n",
    "minste_lengde = bredde_kanal * lengde_bredde_ratio\n",
    "print(minste_lengde)\n",
    "\n",
    "#finner minste dybde\n",
    "minste_dybde = bredde_kanal / bredde_dybde_ratio\n",
    "print(minste_dybde)"
   ]
  },
  {
   "attachments": {},
   "cell_type": "markdown",
   "metadata": {},
   "source": [
    "Studer General Arrangementet til NTNU's eget forskningskip *RV Gunnerus* som du finner under \"ressurser\" i Blackboard. \n",
    "- Beregn skipets geometriske forholdstall:\n",
    "<br>\n",
    "<br>\n",
    "    - $\\frac{L_{pp}}{B}$\n",
    "<br>\n",
    "<br>\n",
    "    - $\\frac{B}{D}$ \n"
   ]
  },
  {
   "cell_type": "markdown",
   "metadata": {},
   "source": []
  },
  {
   "cell_type": "code",
   "execution_count": 9,
   "metadata": {},
   "outputs": [],
   "source": [
    "# Skriv din kode her."
   ]
  },
  {
   "cell_type": "code",
   "execution_count": 10,
   "metadata": {},
   "outputs": [
    {
     "data": {
      "text/plain": [
       "3.53125"
      ]
     },
     "execution_count": 10,
     "metadata": {},
     "output_type": "execute_result"
    }
   ],
   "source": [
    "#løsningsforslag\n",
    "\n",
    "perpendikulærlengde = 33.9 \n",
    "bredde = 9.6\n",
    "dybde_1dekk = 4.287\n",
    "dybde_Adekk = 6.687\n",
    "\n",
    "# Lengde på breddeforhold\n",
    "perpendikulærlengde / bredde"
   ]
  },
  {
   "cell_type": "code",
   "execution_count": 13,
   "metadata": {},
   "outputs": [
    {
     "data": {
      "text/plain": [
       "76.8"
      ]
     },
     "execution_count": 13,
     "metadata": {},
     "output_type": "execute_result"
    }
   ],
   "source": [
    "\n",
    "0.96*80"
   ]
  },
  {
   "cell_type": "code",
   "execution_count": null,
   "metadata": {},
   "outputs": [],
   "source": []
  }
 ],
 "metadata": {
  "kernelspec": {
   "display_name": "base",
   "language": "python",
   "name": "python3"
  },
  "language_info": {
   "codemirror_mode": {
    "name": "ipython",
    "version": 3
   },
   "file_extension": ".py",
   "mimetype": "text/x-python",
   "name": "python",
   "nbconvert_exporter": "python",
   "pygments_lexer": "ipython3",
   "version": "3.9.13"
  },
  "orig_nbformat": 4
 },
 "nbformat": 4,
 "nbformat_minor": 2
}
