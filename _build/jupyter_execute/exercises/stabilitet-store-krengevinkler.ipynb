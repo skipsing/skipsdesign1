{
 "cells": [
  {
   "attachments": {},
   "cell_type": "raw",
   "metadata": {},
   "source": [
    "---\n",
    "title: Stabilitet ved store krengevinkler\n",
    "description: Bruk av et KN-kurver til å etablere GZ-kurve for et gitt deplasement og KG. \n",
    "Analyse av GZ-kurve mhp DNV stabilitetskriterier.\n",
    "authors:\n",
    "  - name: Lars Erik Nygård\n",
    "    email: lars.e.nygard@ntnu.no\n",
    "github: https://skipsing.github.io/skipsdesign1/\n",
    "date: 29.04.23\n",
    "---\n",
    "> {sub-ref}`today` | {sub-ref}`wordcount-words` words | {sub-ref}`wordcount-minutes` min read"
   ]
  },
  {
   "attachments": {},
   "cell_type": "markdown",
   "metadata": {},
   "source": [
    "> {sub-ref}`today` | {sub-ref}`wordcount-words` words | {sub-ref}`wordcount-minutes` min read"
   ]
  },
  {
   "attachments": {},
   "cell_type": "markdown",
   "metadata": {},
   "source": [
    "# Løsning KN kurver"
   ]
  },
  {
   "cell_type": "code",
   "execution_count": 1,
   "metadata": {},
   "outputs": [],
   "source": [
    "import math\n",
    "import pandas\n",
    "import numpy as np \n",
    "import matplotlib.pyplot as plt"
   ]
  },
  {
   "attachments": {},
   "cell_type": "markdown",
   "metadata": {},
   "source": [
    "Vi skal finne KN-verdiene for fartøyets krengevinkler ved $\\nabla = 10000[tonn]$. Med visuell avlesning av KN verdiene i skjæringspunktet for vertikal linje så finner vi _omtrentlige_ verdier. \n",
    "\n",
    "<img src='../images/kn-avlesning.png' width= 550px height= 400px >\n",
    "\n",
    "Avlesningene samler vi i en  [**DataFrame**](https://pandas.pydata.org/docs/reference/api/pandas.DataFrame.html) der hver avlesning har formatet $ \\text{( krengevinkel , avlest KN )} $, og vi gir kolonnene passende navn for senere bruk. \n"
   ]
  },
  {
   "cell_type": "code",
   "execution_count": 2,
   "metadata": {},
   "outputs": [
    {
     "data": {
      "text/html": [
       "<div>\n",
       "<style scoped>\n",
       "    .dataframe tbody tr th:only-of-type {\n",
       "        vertical-align: middle;\n",
       "    }\n",
       "\n",
       "    .dataframe tbody tr th {\n",
       "        vertical-align: top;\n",
       "    }\n",
       "\n",
       "    .dataframe thead th {\n",
       "        text-align: right;\n",
       "    }\n",
       "</style>\n",
       "<table border=\"1\" class=\"dataframe\">\n",
       "  <thead>\n",
       "    <tr style=\"text-align: right;\">\n",
       "      <th></th>\n",
       "      <th>vinkel</th>\n",
       "      <th>kn</th>\n",
       "    </tr>\n",
       "  </thead>\n",
       "  <tbody>\n",
       "    <tr>\n",
       "      <th>0</th>\n",
       "      <td>0</td>\n",
       "      <td>0.00</td>\n",
       "    </tr>\n",
       "    <tr>\n",
       "      <th>1</th>\n",
       "      <td>10</td>\n",
       "      <td>1.17</td>\n",
       "    </tr>\n",
       "    <tr>\n",
       "      <th>2</th>\n",
       "      <td>20</td>\n",
       "      <td>2.40</td>\n",
       "    </tr>\n",
       "    <tr>\n",
       "      <th>3</th>\n",
       "      <td>30</td>\n",
       "      <td>3.50</td>\n",
       "    </tr>\n",
       "    <tr>\n",
       "      <th>4</th>\n",
       "      <td>40</td>\n",
       "      <td>4.50</td>\n",
       "    </tr>\n",
       "    <tr>\n",
       "      <th>5</th>\n",
       "      <td>50</td>\n",
       "      <td>5.10</td>\n",
       "    </tr>\n",
       "    <tr>\n",
       "      <th>6</th>\n",
       "      <td>60</td>\n",
       "      <td>5.50</td>\n",
       "    </tr>\n",
       "    <tr>\n",
       "      <th>7</th>\n",
       "      <td>70</td>\n",
       "      <td>5.70</td>\n",
       "    </tr>\n",
       "  </tbody>\n",
       "</table>\n",
       "</div>"
      ],
      "text/plain": [
       "   vinkel    kn\n",
       "0       0  0.00\n",
       "1      10  1.17\n",
       "2      20  2.40\n",
       "3      30  3.50\n",
       "4      40  4.50\n",
       "5      50  5.10\n",
       "6      60  5.50\n",
       "7      70  5.70"
      ]
     },
     "execution_count": 2,
     "metadata": {},
     "output_type": "execute_result"
    }
   ],
   "source": [
    "stab_data = pandas.DataFrame( [(0,0) , \n",
    "                               (10,1.17) , \n",
    "                               (20,2.4) , \n",
    "                               (30,3.5) , \n",
    "                               (40,4.5) , \n",
    "                               (50,5.1) , \n",
    "                               (60,5.5) , \n",
    "                               (70,5.7) ], \n",
    "                               columns= ['vinkel', 'kn'] )\n",
    "\n",
    "stab_data"
   ]
  },
  {
   "attachments": {},
   "cell_type": "markdown",
   "metadata": {},
   "source": [
    "I oppgaven er vi ute etter GZ-verdien. Den kan finnes ved å benytte geometrisk relasjonen mellom GZ gitt av: \n",
    "\n",
    "$$ \\text{GZ = KN - KG sin(} \\phi\\text{)} $$\n",
    "\n",
    "<img src='../images/kn-km-relasjon.png' width= 550px height= 400px >\n",
    "\n",
    "Vi etablerer en ny _kolonne_ i dataframen med navn **gz** og beregner verdiene ut fra formelen over.   "
   ]
  },
  {
   "cell_type": "markdown",
   "metadata": {},
   "source": []
  },
  {
   "cell_type": "code",
   "execution_count": 3,
   "metadata": {},
   "outputs": [
    {
     "data": {
      "text/html": [
       "<div>\n",
       "<style scoped>\n",
       "    .dataframe tbody tr th:only-of-type {\n",
       "        vertical-align: middle;\n",
       "    }\n",
       "\n",
       "    .dataframe tbody tr th {\n",
       "        vertical-align: top;\n",
       "    }\n",
       "\n",
       "    .dataframe thead th {\n",
       "        text-align: right;\n",
       "    }\n",
       "</style>\n",
       "<table border=\"1\" class=\"dataframe\">\n",
       "  <thead>\n",
       "    <tr style=\"text-align: right;\">\n",
       "      <th></th>\n",
       "      <th>vinkel</th>\n",
       "      <th>kn</th>\n",
       "      <th>gz</th>\n",
       "    </tr>\n",
       "  </thead>\n",
       "  <tbody>\n",
       "    <tr>\n",
       "      <th>0</th>\n",
       "      <td>0</td>\n",
       "      <td>0.00</td>\n",
       "      <td>0.000000</td>\n",
       "    </tr>\n",
       "    <tr>\n",
       "      <th>1</th>\n",
       "      <td>10</td>\n",
       "      <td>1.17</td>\n",
       "      <td>0.084699</td>\n",
       "    </tr>\n",
       "    <tr>\n",
       "      <th>2</th>\n",
       "      <td>20</td>\n",
       "      <td>2.40</td>\n",
       "      <td>0.262374</td>\n",
       "    </tr>\n",
       "    <tr>\n",
       "      <th>3</th>\n",
       "      <td>30</td>\n",
       "      <td>3.50</td>\n",
       "      <td>0.375000</td>\n",
       "    </tr>\n",
       "    <tr>\n",
       "      <th>4</th>\n",
       "      <td>40</td>\n",
       "      <td>4.50</td>\n",
       "      <td>0.482577</td>\n",
       "    </tr>\n",
       "    <tr>\n",
       "      <th>5</th>\n",
       "      <td>50</td>\n",
       "      <td>5.10</td>\n",
       "      <td>0.312222</td>\n",
       "    </tr>\n",
       "    <tr>\n",
       "      <th>6</th>\n",
       "      <td>60</td>\n",
       "      <td>5.50</td>\n",
       "      <td>0.087341</td>\n",
       "    </tr>\n",
       "    <tr>\n",
       "      <th>7</th>\n",
       "      <td>70</td>\n",
       "      <td>5.70</td>\n",
       "      <td>-0.173079</td>\n",
       "    </tr>\n",
       "  </tbody>\n",
       "</table>\n",
       "</div>"
      ],
      "text/plain": [
       "   vinkel    kn        gz\n",
       "0       0  0.00  0.000000\n",
       "1      10  1.17  0.084699\n",
       "2      20  2.40  0.262374\n",
       "3      30  3.50  0.375000\n",
       "4      40  4.50  0.482577\n",
       "5      50  5.10  0.312222\n",
       "6      60  5.50  0.087341\n",
       "7      70  5.70 -0.173079"
      ]
     },
     "execution_count": 3,
     "metadata": {},
     "output_type": "execute_result"
    }
   ],
   "source": [
    "kg = 6.25 #[m] Gitt i oppgaven\n",
    "stab_data['gz'] = stab_data['kn'] - kg *  np.sin(np.radians(stab_data['vinkel'])) \n",
    "stab_data"
   ]
  },
  {
   "attachments": {},
   "cell_type": "markdown",
   "metadata": {},
   "source": [
    "Vi sier oss nå fornøyd med datamaterialet og går over på å behandle og presentere materialet vi har samlet. Matplotlib gjør presentasjonsjobben utmerket direkte ut av datarammen: "
   ]
  },
  {
   "cell_type": "code",
   "execution_count": 4,
   "metadata": {},
   "outputs": [
    {
     "data": {
      "image/png": "[encoded data removed]",
      "text/plain": [
       "<Figure size 640x480 with 1 Axes>"
      ]
     },
     "metadata": {},
     "output_type": "display_data"
    }
   ],
   "source": [
    "stab_data.plot( 'vinkel' , 'gz' )\n",
    "plt.show()"
   ]
  },
  {
   "attachments": {},
   "cell_type": "markdown",
   "metadata": {},
   "source": [
    "Plottet viser GZ-verdien som funksjon av krengevinkel. Vi gjør plottet litt mere presentabelt ved å beskrive hva vi faktisk ser, og gir en god beskrivelse av hva de ulike aksene representerer: "
   ]
  },
  {
   "cell_type": "code",
   "execution_count": 5,
   "metadata": {},
   "outputs": [
    {
     "data": {
      "image/png": "[encoded data removed]",
      "text/plain": [
       "<Figure size 640x480 with 1 Axes>"
      ]
     },
     "metadata": {},
     "output_type": "display_data"
    }
   ],
   "source": [
    "stab_data.plot( 'vinkel' , 'gz' )\n",
    "plt.xlabel('Krengevinkel [deg]', loc= 'center')\n",
    "plt.ylabel('GZ-verdi [m]')\n",
    "plt.title('GZ-kurve @ KG=' + str(kg) +'[m], Depl = 10000[tonn]')\n",
    "plt.axhline(y=0, color='black', linestyle='-')\n",
    "plt.show()"
   ]
  },
  {
   "attachments": {},
   "cell_type": "markdown",
   "metadata": {},
   "source": [
    "Grafisk så kan man se at maksimal GZ verdi oppstår ved krengevinkel 40 grader. \n",
    "Vi kan få denne informasjonen ut av direkte ut av datarammen:  "
   ]
  },
  {
   "cell_type": "code",
   "execution_count": 6,
   "metadata": {},
   "outputs": [
    {
     "data": {
      "text/plain": [
       "0.48257743945912956"
      ]
     },
     "execution_count": 6,
     "metadata": {},
     "output_type": "execute_result"
    }
   ],
   "source": [
    "stab_data['gz'].max()"
   ]
  },
  {
   "attachments": {},
   "cell_type": "markdown",
   "metadata": {},
   "source": [
    "**(Avansert)** Tilhørende vinkel og KN-verdi finnes ved å sette radverdien til *GZ* lik maksimalverdien"
   ]
  },
  {
   "cell_type": "code",
   "execution_count": 7,
   "metadata": {},
   "outputs": [
    {
     "data": {
      "text/html": [
       "<div>\n",
       "<style scoped>\n",
       "    .dataframe tbody tr th:only-of-type {\n",
       "        vertical-align: middle;\n",
       "    }\n",
       "\n",
       "    .dataframe tbody tr th {\n",
       "        vertical-align: top;\n",
       "    }\n",
       "\n",
       "    .dataframe thead th {\n",
       "        text-align: right;\n",
       "    }\n",
       "</style>\n",
       "<table border=\"1\" class=\"dataframe\">\n",
       "  <thead>\n",
       "    <tr style=\"text-align: right;\">\n",
       "      <th></th>\n",
       "      <th>vinkel</th>\n",
       "      <th>kn</th>\n",
       "      <th>gz</th>\n",
       "    </tr>\n",
       "  </thead>\n",
       "  <tbody>\n",
       "    <tr>\n",
       "      <th>4</th>\n",
       "      <td>40</td>\n",
       "      <td>4.5</td>\n",
       "      <td>0.482577</td>\n",
       "    </tr>\n",
       "  </tbody>\n",
       "</table>\n",
       "</div>"
      ],
      "text/plain": [
       "   vinkel   kn        gz\n",
       "4      40  4.5  0.482577"
      ]
     },
     "execution_count": 7,
     "metadata": {},
     "output_type": "execute_result"
    }
   ],
   "source": [
    "max_gz = stab_data[stab_data['gz']==stab_data['gz'].max()]\n",
    "max_gz"
   ]
  },
  {
   "attachments": {},
   "cell_type": "markdown",
   "metadata": {},
   "source": [
    "## Metasenterets endring ved krenging\n",
    "Vi skal nå finne hvor mye _metasenteret_ endrer seg under krenging. Vi har at initialavstanden mellom $K$ og $M_0$ er gitt ved \n",
    "$$ KM_0 = KG + GM_0$$"
   ]
  },
  {
   "cell_type": "code",
   "execution_count": 8,
   "metadata": {},
   "outputs": [
    {
     "name": "stdout",
     "output_type": "stream",
     "text": [
      "km_0 = 6.555[m]\n"
     ]
    }
   ],
   "source": [
    "gm_0 = 0.305 #[m], gitt som opplysning i oppgaven \n",
    "km_0 = kg + gm_0\n",
    "print('km_0 = ' + str(km_0) + '[m]')"
   ]
  },
  {
   "attachments": {},
   "cell_type": "markdown",
   "metadata": {},
   "source": [
    "Videre kan vi finne ny KM verdi ved krenging 40grader ut fra den geometriske relasjonen $KM_{40} = KN_{40} \\times \\sin(40)$, og der vi allerede har fått $KN_{40}$ ut fra avlesning av KN-kurven. "
   ]
  },
  {
   "cell_type": "code",
   "execution_count": 9,
   "metadata": {},
   "outputs": [
    {
     "name": "stdout",
     "output_type": "stream",
     "text": [
      "km_40 = 7.000757220871856[m]\n"
     ]
    },
    {
     "name": "stderr",
     "output_type": "stream",
     "text": [
      "C:\\Users\\larsenyg\\AppData\\Local\\Temp\\ipykernel_18076\\3984295665.py:1: FutureWarning: Calling float on a single element Series is deprecated and will raise a TypeError in the future. Use float(ser.iloc[0]) instead\n",
      "  kn_40 = float(max_gz['kn']) #fra datarammen. Bruker float() for å fjerne formatering\n"
     ]
    }
   ],
   "source": [
    "kn_40 = float(max_gz['kn']) #fra datarammen. Bruker float() for å fjerne formatering  \n",
    "km_40 = kn_40 / np.sin(np.radians(40))\n",
    "print('km_40 = ' + str(km_40)  + '[m]')\n"
   ]
  },
  {
   "attachments": {},
   "cell_type": "markdown",
   "metadata": {},
   "source": [
    "Differansen i KM gir oss da endring av metasenteret:  \n",
    "$$ M_0M_{40} = KM_{40} - KM_{0} $$"
   ]
  },
  {
   "cell_type": "code",
   "execution_count": 10,
   "metadata": {},
   "outputs": [
    {
     "name": "stdout",
     "output_type": "stream",
     "text": [
      "Metasenterets endring mellom initialposisjon og 40grader krenging er=0.446[m]\n"
     ]
    }
   ],
   "source": [
    "m0_m40 = km_40 - km_0\n",
    "print('Metasenterets endring mellom initialposisjon og 40grader krenging er=' + \"%.3f\" % (m0_m40) + '[m]' )"
   ]
  },
  {
   "attachments": {},
   "cell_type": "markdown",
   "metadata": {},
   "source": [
    "### Klasseselskaps krav til areal under GZ-kurve\n",
    "\n",
    "I oppgaven så er det listet 6 punkter som skal være tilfredstilt for at DNV (klasseselskap) skal kunne godkjenne fartøyet. Vi ser først på de 3 første med krav til areal under GZ-kurven:   \n",
    "- Areal under GZ-kurven mellom 0-30 grader uttrykt ved $A_{GZ_{0-30}} < 0.055[mrad]$ \n",
    "- Areal under GZ-kurven mellom 0-40 grader uttrykt ved $A_{GZ_{0-40}} < 0.09[mrad]$\n",
    "- Areal under GZ-kurven mellom 30-40 grader uttrykt ved $A_{GZ_{30-40}} < 0.03[mrad]$\n",
    "\n",
    "Dette kan for enkle kurver som denne regnes manuelt ved å stykke opp arealet i mindre deler bestående av trekanter og rektangler for så å summere de sammen. NB! På x-aksen så er det nå gitt som grader, og det må da regnes om til radianer før en går igang. \n",
    "\n",
    "Arealet under en kurve kan bestemmes ved integrasjon $ \\int_{a}^{b} f(x) \\,dx$, men det fordrer at man vet $f(x)$ som beskriver kurven. I mangel av dette finnes det et par numeriske metoder som løser dette problemet ved kun å vite noen punkter langs kurven:\n",
    "- [Trapesmetoden](https://no.wikipedia.org/wiki/Trapesintegrasjon)\n",
    "- [Simpsonmetoden](https://no.wikipedia.org/wiki/Simpson-integrasjon)\n",
    "\n",
    "Vi går ikke noe nærmere inn på de bortsett fra at vi kan regne på avviket mellom de to. Disse metodene finnes i standardbiblioteket til Python i henholdsvis Scipy og Numpy. "
   ]
  },
  {
   "attachments": {},
   "cell_type": "markdown",
   "metadata": {},
   "source": [
    "- Areal under GZ-kurven mellom 0-30 grader uttrykt ved $A_{GZ_{0-30}} < 0.055[mrad]$ \n",
    "\n",
    "<img src='../images/krenging-30-grader.png' width= 400px height= 400px >\n"
   ]
  },
  {
   "cell_type": "code",
   "execution_count": 11,
   "metadata": {},
   "outputs": [
    {
     "name": "stdout",
     "output_type": "stream",
     "text": [
      "Areal ved trapesmetoden = 0.09330 [mrad]\n",
      "Areal ved Simpsonmetoden = 0.09289 [mrad]\n",
      "Differansen mellom trapes og Simpson: 0.44 %\n",
      "Arealet under GZ-kurven mellom 0 og 30 grader er OK ihht DNV kravet\n"
     ]
    }
   ],
   "source": [
    "import scipy\n",
    "from scipy.integrate import simpson\n",
    "from numpy import trapz\n",
    "\n",
    "# Beregner arealet udner kurven ved bruk av trapesmetoden.\n",
    "area1_30 = trapz( stab_data['gz'][0:4] , dx= np.radians(10))\n",
    "print(\"Areal ved trapesmetoden =\", \"%.5f\" % area1_30 , '[mrad]')\n",
    "\n",
    "# Beregner arealet udner kurven ved bruk av Simpsonmetoden.\n",
    "area2_30 = simpson(stab_data['gz'][0:4] , dx = np.radians(10))\n",
    "print(\"Areal ved Simpsonmetoden =\", \"%.5f\" % area2_30 , '[mrad]')\n",
    "diff_30 = (area1_30 -area2_30)/ area1_30 * 100 \n",
    "print('Differansen mellom trapes og Simpson:', \"%.2f\" % diff_30   , '%')\n",
    "dnv_30 = 0.055\n",
    "if min(area1_30, area2_30) >= dnv_30:\n",
    "    print('Arealet under GZ-kurven mellom 0 og 30 grader er OK ihht DNV kravet') \n",
    "else:\n",
    "    print('Arealet under GZ-kurven mellom 0 og 30 grader er IKKE OK ihht DNV kravet')"
   ]
  },
  {
   "attachments": {},
   "cell_type": "markdown",
   "metadata": {},
   "source": [
    "- Areal under GZ-kurven mellom 0-40 grader uttrykt ved $A_{GZ_{0-40}} < 0.09[mrad]$\n",
    "\n",
    "<img src='../images/krenging-40-grader.png' width= 550px height= 400px >\n"
   ]
  },
  {
   "cell_type": "code",
   "execution_count": 12,
   "metadata": {},
   "outputs": [
    {
     "name": "stdout",
     "output_type": "stream",
     "text": [
      "Areal ved trapesmetoden = 0.16814 [mrad]\n",
      "Areal ved Simpsonmetoden = 0.16558 [mrad]\n",
      "Differansen mellom trapes og Simpson: 1.52 %\n",
      "Arealet under GZ-kurven mellom 0 og 40 grader er OK ihht DNV kravet\n"
     ]
    }
   ],
   "source": [
    "\n",
    "# Beregner arealet under kurven ved bruk av trapesmetoden.\n",
    "area1_40 = trapz( stab_data['gz'][0:5] , dx= np.radians(10))\n",
    "print(\"Areal ved trapesmetoden =\", \"%.5f\" % area1_40 , '[mrad]')\n",
    "\n",
    "# Beregner arealet udner kurven ved bruk av Simpsonmetoden.\n",
    "area2_40 = simpson(stab_data['gz'][0:5] , dx = np.radians(10))\n",
    "print(\"Areal ved Simpsonmetoden =\", \"%.5f\" % area2_40 , '[mrad]')\n",
    "diff = (area1_40 -area2_40)/ area1_40 * 100 \n",
    "print('Differansen mellom trapes og Simpson:', \"%.2f\" % diff   , '%')\n",
    "dnv_40 = 0.09\n",
    "if min(area1_40, area2_40) >= dnv_40:\n",
    "    print('Arealet under GZ-kurven mellom 0 og 40 grader er OK ihht DNV kravet') \n",
    "else:\n",
    "    print('Arealet under GZ-kurven mellom 0 og 40 grader er IKKE OK ihht DNV kravet')"
   ]
  },
  {
   "attachments": {},
   "cell_type": "markdown",
   "metadata": {},
   "source": [
    "- Areal under GZ-kurven mellom 30-40 grader uttrykt ved $A_{GZ_{30-40}} < 0.03[mrad]$\n",
    "\n",
    "<img src='../images/krenging-30-40-grader.png' width= 550px height= 400px >"
   ]
  },
  {
   "cell_type": "code",
   "execution_count": 13,
   "metadata": {},
   "outputs": [
    {
     "name": "stdout",
     "output_type": "stream",
     "text": [
      "Areal ved trapesmetoden = 0.07484 [mrad]\n",
      "Areal ved Simpsonmetoden = 0.07484 [mrad]\n",
      "Differansen mellom trapes og Simpson: 0.00 %\n",
      "Arealet under GZ-kurven mellom 30 og 40 grader er OK ihht DNV kravet\n"
     ]
    }
   ],
   "source": [
    "\n",
    "# Beregner arealet under kurven ved bruk av trapesmetoden.\n",
    "area1_3040 = trapz( stab_data['gz'][3:5] , dx= np.radians(10))\n",
    "print(\"Areal ved trapesmetoden =\", \"%.5f\" % area1_3040 , '[mrad]')\n",
    "\n",
    "# Beregner arealet udner kurven ved bruk av Simpsonmetoden.\n",
    "area2_3040 = simpson(stab_data['gz'][3:5] , dx = np.radians(10))\n",
    "print(\"Areal ved Simpsonmetoden =\", \"%.5f\" % area2_3040 , '[mrad]')\n",
    "diff = (area1_3040 -area2_3040)/ area1_3040 * 100 \n",
    "print('Differansen mellom trapes og Simpson:', \"%.2f\" % diff   , '%')\n",
    "dnv_3040 = 0.03\n",
    "if min(area1_3040, area2_3040) >= dnv_3040:\n",
    "    print('Arealet under GZ-kurven mellom 30 og 40 grader er OK ihht DNV kravet') \n",
    "else:\n",
    "    print('Arealet under GZ-kurven mellom 30 og 40 grader er IKKE OK ihht DNV kravet')"
   ]
  },
  {
   "attachments": {},
   "cell_type": "markdown",
   "metadata": {},
   "source": [
    "### Krav til rettende arm\n",
    "\n",
    "Kravet til \"rettende arm\" (GZ verdi ved 30 grader) \n",
    "- Den rettende arm (GZ) $GZ_{30} >= 0.2[m]$\n",
    "\n",
    "<img src='../images/rettende-arm.png' width= 550px height= 400px >\n",
    "\n"
   ]
  },
  {
   "attachments": {},
   "cell_type": "markdown",
   "metadata": {},
   "source": [
    "### Forklarende plot brukt i løsningsforslaget"
   ]
  },
  {
   "cell_type": "code",
   "execution_count": 14,
   "metadata": {},
   "outputs": [],
   "source": [
    "# Skisse for area under kurve 30 grader \n",
    "\n",
    "stab_data.plot( 'vinkel' , 'gz' )\n",
    "plt.xlabel('Krengevinkel [deg]', loc= 'center')\n",
    "plt.ylabel('GZ-verdi [m]')\n",
    "plt.title('Areal under kurven ved krenging opp til 30grader')\n",
    "plt.axhline(y=0, color='black', linestyle='-')\n",
    "plt.fill_between(\n",
    "        x= stab_data['vinkel']    , \n",
    "        y1= stab_data['gz'], \n",
    "        where= [True , True , True , True , False , False , False, False ] ,\n",
    "        color= \"b\",\n",
    "        alpha= 0.2)\n",
    "plt.savefig('krenging-30-grader.png')\n",
    "plt.close()"
   ]
  },
  {
   "cell_type": "code",
   "execution_count": 15,
   "metadata": {},
   "outputs": [],
   "source": [
    "stab_data.plot( 'vinkel' , 'gz' )\n",
    "plt.xlabel('Krengevinkel [deg]', loc= 'center')\n",
    "plt.ylabel('GZ-verdi [m]')\n",
    "plt.title('Rettende arm > 0.2[m] ved 30[deg] ')\n",
    "plt.axhline(y=0, color='black', linestyle='-')\n",
    "plt.axhline(y=0.2, color='red', linestyle='-')\n",
    "plt.savefig('30grader.png')\n",
    "plt.close()"
   ]
  },
  {
   "cell_type": "code",
   "execution_count": 16,
   "metadata": {},
   "outputs": [],
   "source": [
    "stab_data.plot( 'vinkel' , 'gz' )\n",
    "plt.xlabel('Krengevinkel [deg]', loc= 'center')\n",
    "plt.ylabel('GZ-verdi [m]')\n",
    "plt.title('Areal under kurven ved kregning opp til 40grader')\n",
    "plt.axhline(y=0, color='black', linestyle='-')\n",
    "plt.fill_between(\n",
    "        x= stab_data['vinkel']    , \n",
    "        y1= stab_data['gz'], \n",
    "        where= [True , True , True , True , True , False , False, False ] ,\n",
    "        color= \"r\",\n",
    "        alpha= 0.2)\n",
    "plt.savefig('krenging-40-grader.png')\n",
    "plt.close()"
   ]
  },
  {
   "cell_type": "code",
   "execution_count": 17,
   "metadata": {},
   "outputs": [],
   "source": [
    "stab_data.plot( 'vinkel' , 'gz' )\n",
    "plt.xlabel('Krengevinkel [deg]', loc= 'center')\n",
    "plt.ylabel('GZ-verdi [m]')\n",
    "plt.title('Areal under kurven ved krenging mellom 30-40grader')\n",
    "plt.axhline(y=0, color='black', linestyle='-')\n",
    "plt.fill_between(\n",
    "        x= stab_data['vinkel']    , \n",
    "        y1= stab_data['gz'], \n",
    "        where= [False , False , False , True , True , False , False, False ] ,\n",
    "        color= \"r\",\n",
    "        alpha= 0.2)\n",
    "plt.savefig('krenging-30-40-grader.png')\n",
    "plt.close()"
   ]
  }
 ],
 "metadata": {
  "kernelspec": {
   "display_name": "base",
   "language": "python",
   "name": "python3"
  },
  "language_info": {
   "codemirror_mode": {
    "name": "ipython",
    "version": 3
   },
   "file_extension": ".py",
   "mimetype": "text/x-python",
   "name": "python",
   "nbconvert_exporter": "python",
   "pygments_lexer": "ipython3",
   "version": "3.10.8"
  }
 },
 "nbformat": 4,
 "nbformat_minor": 2
}